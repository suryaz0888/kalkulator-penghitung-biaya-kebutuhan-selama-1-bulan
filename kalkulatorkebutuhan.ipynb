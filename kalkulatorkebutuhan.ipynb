import ipywidgets as widgets
from ipywidgets import VBox, HBox, Layout
from IPython.display import display, clear_output
import matplotlib.pyplot as plt

# -- 1. Buat Semua Elemen UI (Widgets) --

# Judul
title = widgets.HTML("<h1>📊 Aplikasi Anggaran Bulanan Sederhana</h1>")

# --- Pemasukan ---
pemasukan_title = widgets.HTML("<h3>1. Pemasukan (Income)</h3>")
gaji_pokok = widgets.FloatText(value=0.0, description='Gaji Pokok:', style={'description_width': 'initial'}, layout=Layout(width='300px'))
pemasukan_lain = widgets.FloatText(value=0.0, description='Lain-lain:', style={'description_width': 'initial'}, layout=Layout(width='300px'))
box_pemasukan = VBox([pemasukan_title, gaji_pokok, pemasukan_lain])

# --- Pengeluaran (Gunakan Akordion agar rapi) ---
pengeluaran_title = widgets.HTML("<h3>2. Pengeluaran (Expenses)</h3>")

# Kategori 1: Wajib (Needs - 50%)
sewa_kost = widgets.FloatText(value=0.0, description='Sewa/KPR:', style={'description_width': 'initial'})
tagihan = widgets.FloatText(value=0.0, description='Tagihan (Listrik, Air, Inet):', style={'description_width': 'initial'})
transportasi = widgets.FloatText(value=0.0, description='Transportasi:', style={'description_width': 'initial'})
belanja_dapur = widgets.FloatText(value=0.0, description='Belanja Dapur:', style={'description_width': 'initial'})
box_wajib = VBox([sewa_kost, tagihan, transportasi, belanja_dapur])

# Kategori 2: Keinginan (Wants - 30%)
hiburan = widgets.FloatText(value=0.0, description='Hiburan (Nongkrong, Film):', style={'description_width': 'initial'})
langganan = widgets.FloatText(value=0.0, description='Langganan (Netflix, dll):', style={'description_width': 'initial'})
shopping = widgets.FloatText(value=0.0, description='Shopping (Baju, dll):', style={'description_width': 'initial'})
box_keinginan = VBox([hiburan, langganan, shopping])

# Kategori 3: Tabungan/Investasi (Savings - 20%)
tabungan = widgets.FloatText(value=0.0, description='Tabungan:', style={'description_width': 'initial'})
investasi = widgets.FloatText(value=0.0, description='Investasi:', style={'description_width': 'initial'})
dana_darurat = widgets.FloatText(value=0.0, description='Dana Darurat:', style={'description_width': 'initial'})
box_tabungan = VBox([tabungan, investasi, dana_darurat])

# Gabungkan kategori pengeluaran dalam Akordion
accordion = widgets.Accordion(children=[box_wajib, box_keinginan, box_tabungan])
accordion.set_title(0, 'Kebutuhan Wajib (Needs)')
accordion.set_title(1, 'Keinginan (Wants)')
accordion.set_title(2, 'Tabungan & Investasi (Savings)')

box_pengeluaran = VBox([pengeluaran_title, accordion])


# --- Tombol Aksi ---
button_hitung = widgets.Button(
    description='Hitung & Analisis Anggaran Saya',
    button_style='success', # 'success', 'info', 'warning', 'danger' or ''
    tooltip='Klik untuk melihat hasil analisis',
    icon='calculator'
)

# --- Area Output ---
# Ini adalah tempat hasil perhitungan dan grafik akan muncul
output_area = widgets.Output()


# -- 2. Logika Fungsi untuk Menghitung --

def hitung_dan_analisis(b):
    # 1. Bersihkan output sebelumnya
    with output_area:
        clear_output(wait=True)

        # 2. Ambil semua nilai dari input
        total_pemasukan = gaji_pokok.value + pemasukan_lain.value

        total_wajib = sewa_kost.value + tagihan.value + transportasi.value + belanja_dapur.value
        total_keinginan = hiburan.value + langganan.value + shopping.value
        total_tabungan = tabungan.value + investasi.value + dana_darurat.value

        total_pengeluaran = total_wajib + total_keinginan + total_tabungan
        sisa_uang = total_pemasukan - total_pengeluaran

        # 3. Tampilkan Ringkasan Teks
        print("--- RINGKASAN KEUANGAN ---")
        # Perbaiki format output untuk pemasukan agar selalu menampilkan pemisah ribuan
        # dan menampilkan 2 angka desimal hanya jika ada nilai desimal
        if total_pemasukan == int(total_pemasukan):
             print(f"Total Pemasukan   : Rp {int(total_pemasukan):,}")
        else:
             print(f"Total Pemasukan   : Rp {total_pemasukan:,.2f}")

        print(f"Total Pengeluaran : Rp {total_pengeluaran:,.2f}")
        print("---------------------------------")

        if sisa_uang < 0:
            print(f"Sisa Uang (Defisit): Rp {sisa_uang:,.2f} 😱")
            print("PERINGATAN: Pengeluaran Anda lebih besar dari pemasukan!")
        else:
            print(f"Sisa Uang (Surplus) : Rp {sisa_uang:,.2f} 😊")
            if sisa_uang > 0:
                 print("Kerja bagus! Alokasikan sisa uang ini ke tabungan atau investasi.")

        # 4. Analisis Efisiensi (Aturan 50/30/20)
        print("\n--- ANALISIS EFISIENSI (Aturan 50/30/20) ---")
        if total_pemasukan > 0:
            # Target Ideal
            target_wajib = total_pemasukan * 0.50
            target_keinginan = total_pemasukan * 0.30
            target_tabungan = total_pemasukan * 0.20

            # Realita
            persen_wajib = (total_wajib / total_pemasukan) * 100
            persen_keinginan = (total_keinginan / total_pemasukan) * 100
            persen_tabungan = (total_tabungan / total_pemasukan) * 100

            print(f"Kebutuhan (Target 50%): Rp {target_wajib:,.2f} | Realita: Rp {total_wajib:,.2f} ({persen_wajib:.1f}%)")
            print(f"Keinginan (Target 30%): Rp {target_keinginan:,.2f} | Realita: Rp {total_keinginan:,.2f} ({persen_keinginan:.1f}%)")
            print(f"Tabungan  (Target 20%): Rp {target_tabungan:,.2f} | Realita: Rp {total_tabungan:,.2f} ({persen_tabungan:.1f}%)")

            # Memberi saran
            if persen_wajib > 50:
                print("-> Saran: Porsi KEBUTUHAN Anda (Needs) sedikit di atas 50%. Coba tinjau kembali pos ini.")
            if persen_keinginan > 30:
                print("-> Saran: Porsi KEINGINAN Anda (Wants) di atas 30%. Ini area yang paling mudah untuk diefisienkan!")
            if persen_tabungan < 20:
                print("-> Saran: Porsi TABUNGAN Anda (Savings) di bawah 20%. Coba kurangi 'Wants' untuk menambah 'Savings'.")

        else:
            print("Masukkan Pemasukan Anda untuk melihat analisis 50/30/20.")

        # 5. Buat Visualisasi (Diagram Lingkaran/Pie Chart)
        if total_pengeluaran > 0:
            labels = ['Kebutuhan Wajib', 'Keinginan', 'Tabungan']
            sizes = [total_wajib, total_keinginan, total_tabungan]

            # Jika ada sisa uang (yang belum dialokasikan), tambahkan ke chart
            if sisa_uang > 0:
                labels.append('Belum Dialokasikan')
                sizes.append(sisa_uang)

            fig, ax = plt.subplots(figsize=(7, 5))
            ax.pie(sizes, labels=labels, autopct='%1.1f%%', startangle=90,
                   wedgeprops=dict(width=0.4, edgecolor='w'))
            ax.axis('equal')  # Equal aspect ratio ensures that pie is drawn as a circle.
            plt.title("Diagram Alokasi Dana Anda", pad=20)
            plt.show()
        else:
            print("\nMasukkan data pengeluaran untuk membuat diagram.")


# -- 3. Hubungkan Tombol dengan Fungsi --
button_hitung.on_click(hitung_dan_analisis)

# -- 4. Tampilkan Semua Elemen UI --
# Susun layout aplikasi
app_layout = VBox([
    title,
    box_pemasukan,
    box_pengeluaran,
    HBox([button_hitung]),
    output_area
])

# Tampilkan aplikasi
display(app_layout)
